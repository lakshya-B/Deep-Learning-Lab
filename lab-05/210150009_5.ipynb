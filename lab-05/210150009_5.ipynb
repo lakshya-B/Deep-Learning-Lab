{
  "nbformat": 4,
  "nbformat_minor": 0,
  "metadata": {
    "colab": {
      "provenance": [],
      "gpuType": "T4"
    },
    "kernelspec": {
      "name": "python3",
      "display_name": "Python 3"
    },
    "language_info": {
      "name": "python"
    },
    "accelerator": "GPU"
  },
  "cells": [
    {
      "cell_type": "code",
      "execution_count": 1,
      "metadata": {
        "id": "EP5IpJigwV_y"
      },
      "outputs": [],
      "source": [
        "import numpy as np\n",
        "import pandas as pd"
      ]
    },
    {
      "cell_type": "code",
      "source": [
        "reviews_data = pd.read_csv(\"drive/MyDrive/IMDB Dataset.csv\")\n",
        "reviews_data.head()"
      ],
      "metadata": {
        "colab": {
          "base_uri": "https://localhost:8080/",
          "height": 206
        },
        "id": "YsHKJmD61Voj",
        "outputId": "b67ab938-9a7f-4999-938d-8ef29ed70f3e"
      },
      "execution_count": 2,
      "outputs": [
        {
          "output_type": "execute_result",
          "data": {
            "text/plain": [
              "                                              review sentiment\n",
              "0  One of the other reviewers has mentioned that ...  positive\n",
              "1  A wonderful little production. <br /><br />The...  positive\n",
              "2  I thought this was a wonderful way to spend ti...  positive\n",
              "3  Basically there's a family where a little boy ...  negative\n",
              "4  Petter Mattei's \"Love in the Time of Money\" is...  positive"
            ],
            "text/html": [
              "\n",
              "  <div id=\"df-7de82cda-cf60-4877-a099-dc06ec268e4b\" class=\"colab-df-container\">\n",
              "    <div>\n",
              "<style scoped>\n",
              "    .dataframe tbody tr th:only-of-type {\n",
              "        vertical-align: middle;\n",
              "    }\n",
              "\n",
              "    .dataframe tbody tr th {\n",
              "        vertical-align: top;\n",
              "    }\n",
              "\n",
              "    .dataframe thead th {\n",
              "        text-align: right;\n",
              "    }\n",
              "</style>\n",
              "<table border=\"1\" class=\"dataframe\">\n",
              "  <thead>\n",
              "    <tr style=\"text-align: right;\">\n",
              "      <th></th>\n",
              "      <th>review</th>\n",
              "      <th>sentiment</th>\n",
              "    </tr>\n",
              "  </thead>\n",
              "  <tbody>\n",
              "    <tr>\n",
              "      <th>0</th>\n",
              "      <td>One of the other reviewers has mentioned that ...</td>\n",
              "      <td>positive</td>\n",
              "    </tr>\n",
              "    <tr>\n",
              "      <th>1</th>\n",
              "      <td>A wonderful little production. &lt;br /&gt;&lt;br /&gt;The...</td>\n",
              "      <td>positive</td>\n",
              "    </tr>\n",
              "    <tr>\n",
              "      <th>2</th>\n",
              "      <td>I thought this was a wonderful way to spend ti...</td>\n",
              "      <td>positive</td>\n",
              "    </tr>\n",
              "    <tr>\n",
              "      <th>3</th>\n",
              "      <td>Basically there's a family where a little boy ...</td>\n",
              "      <td>negative</td>\n",
              "    </tr>\n",
              "    <tr>\n",
              "      <th>4</th>\n",
              "      <td>Petter Mattei's \"Love in the Time of Money\" is...</td>\n",
              "      <td>positive</td>\n",
              "    </tr>\n",
              "  </tbody>\n",
              "</table>\n",
              "</div>\n",
              "    <div class=\"colab-df-buttons\">\n",
              "\n",
              "  <div class=\"colab-df-container\">\n",
              "    <button class=\"colab-df-convert\" onclick=\"convertToInteractive('df-7de82cda-cf60-4877-a099-dc06ec268e4b')\"\n",
              "            title=\"Convert this dataframe to an interactive table.\"\n",
              "            style=\"display:none;\">\n",
              "\n",
              "  <svg xmlns=\"http://www.w3.org/2000/svg\" height=\"24px\" viewBox=\"0 -960 960 960\">\n",
              "    <path d=\"M120-120v-720h720v720H120Zm60-500h600v-160H180v160Zm220 220h160v-160H400v160Zm0 220h160v-160H400v160ZM180-400h160v-160H180v160Zm440 0h160v-160H620v160ZM180-180h160v-160H180v160Zm440 0h160v-160H620v160Z\"/>\n",
              "  </svg>\n",
              "    </button>\n",
              "\n",
              "  <style>\n",
              "    .colab-df-container {\n",
              "      display:flex;\n",
              "      gap: 12px;\n",
              "    }\n",
              "\n",
              "    .colab-df-convert {\n",
              "      background-color: #E8F0FE;\n",
              "      border: none;\n",
              "      border-radius: 50%;\n",
              "      cursor: pointer;\n",
              "      display: none;\n",
              "      fill: #1967D2;\n",
              "      height: 32px;\n",
              "      padding: 0 0 0 0;\n",
              "      width: 32px;\n",
              "    }\n",
              "\n",
              "    .colab-df-convert:hover {\n",
              "      background-color: #E2EBFA;\n",
              "      box-shadow: 0px 1px 2px rgba(60, 64, 67, 0.3), 0px 1px 3px 1px rgba(60, 64, 67, 0.15);\n",
              "      fill: #174EA6;\n",
              "    }\n",
              "\n",
              "    .colab-df-buttons div {\n",
              "      margin-bottom: 4px;\n",
              "    }\n",
              "\n",
              "    [theme=dark] .colab-df-convert {\n",
              "      background-color: #3B4455;\n",
              "      fill: #D2E3FC;\n",
              "    }\n",
              "\n",
              "    [theme=dark] .colab-df-convert:hover {\n",
              "      background-color: #434B5C;\n",
              "      box-shadow: 0px 1px 3px 1px rgba(0, 0, 0, 0.15);\n",
              "      filter: drop-shadow(0px 1px 2px rgba(0, 0, 0, 0.3));\n",
              "      fill: #FFFFFF;\n",
              "    }\n",
              "  </style>\n",
              "\n",
              "    <script>\n",
              "      const buttonEl =\n",
              "        document.querySelector('#df-7de82cda-cf60-4877-a099-dc06ec268e4b button.colab-df-convert');\n",
              "      buttonEl.style.display =\n",
              "        google.colab.kernel.accessAllowed ? 'block' : 'none';\n",
              "\n",
              "      async function convertToInteractive(key) {\n",
              "        const element = document.querySelector('#df-7de82cda-cf60-4877-a099-dc06ec268e4b');\n",
              "        const dataTable =\n",
              "          await google.colab.kernel.invokeFunction('convertToInteractive',\n",
              "                                                    [key], {});\n",
              "        if (!dataTable) return;\n",
              "\n",
              "        const docLinkHtml = 'Like what you see? Visit the ' +\n",
              "          '<a target=\"_blank\" href=https://colab.research.google.com/notebooks/data_table.ipynb>data table notebook</a>'\n",
              "          + ' to learn more about interactive tables.';\n",
              "        element.innerHTML = '';\n",
              "        dataTable['output_type'] = 'display_data';\n",
              "        await google.colab.output.renderOutput(dataTable, element);\n",
              "        const docLink = document.createElement('div');\n",
              "        docLink.innerHTML = docLinkHtml;\n",
              "        element.appendChild(docLink);\n",
              "      }\n",
              "    </script>\n",
              "  </div>\n",
              "\n",
              "\n",
              "<div id=\"df-3ad6c23b-1933-4ced-9d2a-8b8db003997d\">\n",
              "  <button class=\"colab-df-quickchart\" onclick=\"quickchart('df-3ad6c23b-1933-4ced-9d2a-8b8db003997d')\"\n",
              "            title=\"Suggest charts\"\n",
              "            style=\"display:none;\">\n",
              "\n",
              "<svg xmlns=\"http://www.w3.org/2000/svg\" height=\"24px\"viewBox=\"0 0 24 24\"\n",
              "     width=\"24px\">\n",
              "    <g>\n",
              "        <path d=\"M19 3H5c-1.1 0-2 .9-2 2v14c0 1.1.9 2 2 2h14c1.1 0 2-.9 2-2V5c0-1.1-.9-2-2-2zM9 17H7v-7h2v7zm4 0h-2V7h2v10zm4 0h-2v-4h2v4z\"/>\n",
              "    </g>\n",
              "</svg>\n",
              "  </button>\n",
              "\n",
              "<style>\n",
              "  .colab-df-quickchart {\n",
              "      --bg-color: #E8F0FE;\n",
              "      --fill-color: #1967D2;\n",
              "      --hover-bg-color: #E2EBFA;\n",
              "      --hover-fill-color: #174EA6;\n",
              "      --disabled-fill-color: #AAA;\n",
              "      --disabled-bg-color: #DDD;\n",
              "  }\n",
              "\n",
              "  [theme=dark] .colab-df-quickchart {\n",
              "      --bg-color: #3B4455;\n",
              "      --fill-color: #D2E3FC;\n",
              "      --hover-bg-color: #434B5C;\n",
              "      --hover-fill-color: #FFFFFF;\n",
              "      --disabled-bg-color: #3B4455;\n",
              "      --disabled-fill-color: #666;\n",
              "  }\n",
              "\n",
              "  .colab-df-quickchart {\n",
              "    background-color: var(--bg-color);\n",
              "    border: none;\n",
              "    border-radius: 50%;\n",
              "    cursor: pointer;\n",
              "    display: none;\n",
              "    fill: var(--fill-color);\n",
              "    height: 32px;\n",
              "    padding: 0;\n",
              "    width: 32px;\n",
              "  }\n",
              "\n",
              "  .colab-df-quickchart:hover {\n",
              "    background-color: var(--hover-bg-color);\n",
              "    box-shadow: 0 1px 2px rgba(60, 64, 67, 0.3), 0 1px 3px 1px rgba(60, 64, 67, 0.15);\n",
              "    fill: var(--button-hover-fill-color);\n",
              "  }\n",
              "\n",
              "  .colab-df-quickchart-complete:disabled,\n",
              "  .colab-df-quickchart-complete:disabled:hover {\n",
              "    background-color: var(--disabled-bg-color);\n",
              "    fill: var(--disabled-fill-color);\n",
              "    box-shadow: none;\n",
              "  }\n",
              "\n",
              "  .colab-df-spinner {\n",
              "    border: 2px solid var(--fill-color);\n",
              "    border-color: transparent;\n",
              "    border-bottom-color: var(--fill-color);\n",
              "    animation:\n",
              "      spin 1s steps(1) infinite;\n",
              "  }\n",
              "\n",
              "  @keyframes spin {\n",
              "    0% {\n",
              "      border-color: transparent;\n",
              "      border-bottom-color: var(--fill-color);\n",
              "      border-left-color: var(--fill-color);\n",
              "    }\n",
              "    20% {\n",
              "      border-color: transparent;\n",
              "      border-left-color: var(--fill-color);\n",
              "      border-top-color: var(--fill-color);\n",
              "    }\n",
              "    30% {\n",
              "      border-color: transparent;\n",
              "      border-left-color: var(--fill-color);\n",
              "      border-top-color: var(--fill-color);\n",
              "      border-right-color: var(--fill-color);\n",
              "    }\n",
              "    40% {\n",
              "      border-color: transparent;\n",
              "      border-right-color: var(--fill-color);\n",
              "      border-top-color: var(--fill-color);\n",
              "    }\n",
              "    60% {\n",
              "      border-color: transparent;\n",
              "      border-right-color: var(--fill-color);\n",
              "    }\n",
              "    80% {\n",
              "      border-color: transparent;\n",
              "      border-right-color: var(--fill-color);\n",
              "      border-bottom-color: var(--fill-color);\n",
              "    }\n",
              "    90% {\n",
              "      border-color: transparent;\n",
              "      border-bottom-color: var(--fill-color);\n",
              "    }\n",
              "  }\n",
              "</style>\n",
              "\n",
              "  <script>\n",
              "    async function quickchart(key) {\n",
              "      const quickchartButtonEl =\n",
              "        document.querySelector('#' + key + ' button');\n",
              "      quickchartButtonEl.disabled = true;  // To prevent multiple clicks.\n",
              "      quickchartButtonEl.classList.add('colab-df-spinner');\n",
              "      try {\n",
              "        const charts = await google.colab.kernel.invokeFunction(\n",
              "            'suggestCharts', [key], {});\n",
              "      } catch (error) {\n",
              "        console.error('Error during call to suggestCharts:', error);\n",
              "      }\n",
              "      quickchartButtonEl.classList.remove('colab-df-spinner');\n",
              "      quickchartButtonEl.classList.add('colab-df-quickchart-complete');\n",
              "    }\n",
              "    (() => {\n",
              "      let quickchartButtonEl =\n",
              "        document.querySelector('#df-3ad6c23b-1933-4ced-9d2a-8b8db003997d button');\n",
              "      quickchartButtonEl.style.display =\n",
              "        google.colab.kernel.accessAllowed ? 'block' : 'none';\n",
              "    })();\n",
              "  </script>\n",
              "</div>\n",
              "\n",
              "    </div>\n",
              "  </div>\n"
            ],
            "application/vnd.google.colaboratory.intrinsic+json": {
              "type": "dataframe",
              "variable_name": "reviews_data",
              "summary": "{\n  \"name\": \"reviews_data\",\n  \"rows\": 50000,\n  \"fields\": [\n    {\n      \"column\": \"review\",\n      \"properties\": {\n        \"dtype\": \"string\",\n        \"num_unique_values\": 49582,\n        \"samples\": [\n          \"\\\"Soul Plane\\\" is a horrible attempt at comedy that only should appeal people with thick skulls, bloodshot eyes and furry pawns. <br /><br />The plot is not only incoherent but also non-existent, acting is mostly sub sub-par with a gang of highly moronic and dreadful characters thrown in for bad measure, jokes are often spotted miles ahead and almost never even a bit amusing. This movie lacks any structure and is full of racial stereotypes that must have seemed old even in the fifties, the only thing it really has going for it is some pretty ladies, but really, if you want that you can rent something from the \\\"Adult\\\" section. OK?<br /><br />I can hardly see anything here to recommend since you'll probably have a lot a better and productive time chasing rats with a sledgehammer or inventing waterproof teabags or whatever.<br /><br />2/10\",\n          \"Guest from the Future tells a fascinating story of time travel, friendship, battle of good and evil -- all with a small budget, child actors, and few special effects. Something for Spielberg and Lucas to learn from. ;) A sixth-grader Kolya \\\"Nick\\\" Gerasimov finds a time machine in the basement of a decrepit building and travels 100 years into the future. He discovers a near-perfect, utopian society where robots play guitars and write poetry, everyone is kind to each other and people enjoy everything technology has to offer. Alice is the daughter of a prominent scientist who invented a device called Mielophone that allows to read minds of humans and animals. The device can be put to both good and bad use, depending on whose hands it falls into. When two evil space pirates from Saturn who want to rule the universe attempt to steal Mielophone, it falls into the hands of 20th century school boy Nick. With the pirates hot on his tracks, he travels back to his time, followed by the pirates, and Alice. Chaos, confusion and funny situations follow as the luckless pirates try to blend in with the earthlings. Alice enrolls in the same school Nick goes to and demonstrates superhuman abilities in PE class. The catch is, Alice doesn't know what Nick looks like, while the pirates do. Also, the pirates are able to change their appearance and turn literally into anyone. (Hmm, I wonder if this is where James Cameron got the idea for Terminator...) Who gets to Nick -- and Mielophone -- first? Excellent plot, non-stop adventures, and great soundtrack. I wish Hollywood made kid movies like this one...\",\n          \"\\\"National Treasure\\\" (2004) is a thoroughly misguided hodge-podge of plot entanglements that borrow from nearly every cloak and dagger government conspiracy clich\\u00e9 that has ever been written. The film stars Nicholas Cage as Benjamin Franklin Gates (how precious is that, I ask you?); a seemingly normal fellow who, for no other reason than being of a lineage of like-minded misguided fortune hunters, decides to steal a 'national treasure' that has been hidden by the United States founding fathers. After a bit of subtext and background that plays laughably (unintentionally) like Indiana Jones meets The Patriot, the film degenerates into one misguided whimsy after another \\u0096 attempting to create a 'Stanley Goodspeed' regurgitation of Nicholas Cage and launch the whole convoluted mess forward with a series of high octane, but disconnected misadventures.<br /><br />The relevancy and logic to having George Washington and his motley crew of patriots burying a king's ransom someplace on native soil, and then, going through the meticulous plan of leaving clues scattered throughout U.S. currency art work, is something that director Jon Turteltaub never quite gets around to explaining. Couldn't Washington found better usage for such wealth during the start up of the country? Hence, we are left with a mystery built on top of an enigma that is already on shaky ground by the time Ben appoints himself the new custodian of this untold wealth. Ben's intentions are noble \\u0096 if confusing. He's set on protecting the treasure. For who and when?\\u0085your guess is as good as mine.<br /><br />But there are a few problems with Ben's crusade. First up, his friend, Ian Holmes (Sean Bean) decides that he can't wait for Ben to make up his mind about stealing the Declaration of Independence from the National Archives (oh, yeah \\u0096 brilliant idea!). Presumably, the back of that famous document holds the secret answer to the ultimate fortune. So Ian tries to kill Ben. The assassination attempt is, of course, unsuccessful, if overly melodramatic. It also affords Ben the opportunity to pick up, and pick on, the very sultry curator of the archives, Abigail Chase (Diane Kruger). She thinks Ben is clearly a nut \\u0096 at least at the beginning. But true to action/romance form, Abby's resolve melts quicker than you can say, \\\"is that the Hope Diamond?\\\" The film moves into full X-File-ish mode, as the FBI, mistakenly believing that Ben is behind the theft, retaliate in various benign ways that lead to a multi-layering of action sequences reminiscent of Mission Impossible meets The Fugitive. Honestly, don't those guys ever get 'intelligence' information that is correct? In the final analysis, \\\"National Treasure\\\" isn't great film making, so much as it's a patchwork rehash of tired old bits from other movies, woven together from scraps, the likes of which would make IL' Betsy Ross blush.<br /><br />The Buena Vista DVD delivers a far more generous treatment than this film is deserving of. The anamorphic widescreen picture exhibits a very smooth and finely detailed image with very rich colors, natural flesh tones, solid blacks and clean whites. The stylized image is also free of blemishes and digital enhancements. The audio is 5.1 and delivers a nice sonic boom to your side and rear speakers with intensity and realism. Extras include a host of promotional junket material that is rather deep and over the top in its explanation of how and why this film was made. If only, as an audience, we had had more clarification as to why Ben and co. were chasing after an illusive treasure, this might have been one good flick. Extras conclude with the theatrical trailer, audio commentary and deleted scenes. Not for the faint-hearted \\u0096 just the thick-headed.\"\n        ],\n        \"semantic_type\": \"\",\n        \"description\": \"\"\n      }\n    },\n    {\n      \"column\": \"sentiment\",\n      \"properties\": {\n        \"dtype\": \"category\",\n        \"num_unique_values\": 2,\n        \"samples\": [\n          \"negative\",\n          \"positive\"\n        ],\n        \"semantic_type\": \"\",\n        \"description\": \"\"\n      }\n    }\n  ]\n}"
            }
          },
          "metadata": {},
          "execution_count": 2
        }
      ]
    },
    {
      "cell_type": "code",
      "source": [
        "reviews_data.shape"
      ],
      "metadata": {
        "colab": {
          "base_uri": "https://localhost:8080/"
        },
        "id": "2SrKii7B2Spj",
        "outputId": "7710c917-6ad1-4fc9-83d8-3c6ba9c0a2a7"
      },
      "execution_count": 3,
      "outputs": [
        {
          "output_type": "execute_result",
          "data": {
            "text/plain": [
              "(50000, 2)"
            ]
          },
          "metadata": {},
          "execution_count": 3
        }
      ]
    },
    {
      "cell_type": "markdown",
      "source": [
        "## Data Preprocessing"
      ],
      "metadata": {
        "id": "ohDFe4_O8jfQ"
      }
    },
    {
      "cell_type": "code",
      "source": [
        "def get_reviews(data):\n",
        "  reviews = []  # list-of-lists of words\n",
        "  for i in range(data.shape[0]):\n",
        "    sent = data.iloc[i,0]\n",
        "    punc_str = \"!\\\"#$%&()*+,-./:;<=>?@[\\\\]^_`{|}~\"\n",
        "    punc_table = {ord(char): None for char in punc_str}\n",
        "    sent = sent.translate(punc_table)  # remove punc\n",
        "    sent = sent.lower()  # lower case\n",
        "    sent = \" \".join(sent.split())  # remove consecutive WS\n",
        "    word_list = sent.split(\" \")\n",
        "    reviews.append(word_list)\n",
        "  word_freq_dict = {}\n",
        "  for review in reviews:\n",
        "    for word in review:\n",
        "      if word in word_freq_dict:\n",
        "        word_freq_dict[word] += 1\n",
        "      else:\n",
        "        word_freq_dict[word] = 1\n",
        "  return reviews,word_freq_dict"
      ],
      "metadata": {
        "id": "-XmNYQ9o6m94"
      },
      "execution_count": 27,
      "outputs": []
    },
    {
      "cell_type": "code",
      "source": [
        "def vocab_list_sorted(word_freq_dict):\n",
        "  kv_list = []  # list of word-freq tuples so can sort\n",
        "  for (k,v) in word_freq_dict.items():\n",
        "    kv_list.append((k,v))\n",
        "\n",
        "  sorted_kv_list = sorted(kv_list, key=lambda x: x[1], reverse=True) # sort by freq\n",
        "  vocab_dict = {}\n",
        "  # key = word, value = 1-based rank\n",
        "  # ('the' = 1, 'a' = 2, etc.)\n",
        "  for i in range(len(sorted_kv_list)):\n",
        "    w = sorted_kv_list[i][0]  # word is at [0]\n",
        "    vocab_dict[w] = i+1       # 1-based as in Keras dataset\n",
        "  return vocab_dict\n"
      ],
      "metadata": {
        "id": "E29EtPtG784f"
      },
      "execution_count": 28,
      "outputs": []
    },
    {
      "cell_type": "code",
      "source": [
        "def generate_file(reviews_lists, vocab_dict, max_review_len, label_char):\n",
        "\n",
        "  num_reviews = []\n",
        "  offset = 3  # Keras offset: 'the' = 1 (most frequent)\n",
        "\n",
        "  for i in range(len(reviews_lists)):  # walk each review\n",
        "    curr_review = reviews_lists[i]\n",
        "    num_review = []\n",
        "    n_words = len(curr_review)\n",
        "    if n_words > max_review_len:\n",
        "      continue  # next i, continue without writing anything\n",
        "\n",
        "    n_pad = max_review_len - n_words   # num of 0s to pre-pend\n",
        "\n",
        "    for j in range(n_pad):  # write padding to get 50 values\n",
        "      num_review.append(int(0))\n",
        "\n",
        "    for word in curr_review:\n",
        "      # a word in test set might not have been in training set\n",
        "      if word not in vocab_dict:\n",
        "        num_review.append(int(2))  # 2 is out-of-vocab index\n",
        "      else:\n",
        "        idx = vocab_dict[word] + offset\n",
        "        num_review.append(idx)\n",
        "    num_review.append(label_char)\n",
        "    num_reviews.append(num_review)\n",
        "  return num_reviews"
      ],
      "metadata": {
        "id": "2xT3u--A84hd"
      },
      "execution_count": 34,
      "outputs": []
    },
    {
      "cell_type": "code",
      "source": [
        "positive = reviews_data[reviews_data[\"sentiment\"] == \"positive\"]\n",
        "negative = reviews_data[reviews_data[\"sentiment\"] == \"negative\"]"
      ],
      "metadata": {
        "id": "oZ1CCYfVC2iI"
      },
      "execution_count": 35,
      "outputs": []
    },
    {
      "cell_type": "code",
      "source": [
        "reviews_lists_p, word_freq_p =  get_reviews(positive)\n",
        "vocab_dict_p = vocab_list_sorted(word_freq_p)\n",
        "max_review_len = 100\n",
        "label_char1 = 0 #positive\n",
        "p_data = generate_file(reviews_lists_p, vocab_dict_p, max_review_len, label_char1)"
      ],
      "metadata": {
        "id": "eAC4bijpMz_k"
      },
      "execution_count": 36,
      "outputs": []
    },
    {
      "cell_type": "code",
      "source": [
        "reviews_lists_n, word_freq_n =  get_reviews(negative)\n",
        "vocab_dict_n = vocab_list_sorted(word_freq_n)\n",
        "max_review_len = 100\n",
        "label_char2 = 1 #negative\n",
        "n_data = generate_file(reviews_lists_n, vocab_dict_n, max_review_len, label_char2)"
      ],
      "metadata": {
        "id": "qxwiIrhHNgEJ"
      },
      "execution_count": 40,
      "outputs": []
    },
    {
      "cell_type": "code",
      "source": [
        "length_p = int((0.9)*len(p_data))\n",
        "X_train_p = p_data[:length_p][:-1]\n",
        "y_train_p = p_data[:length_p][-1]\n",
        "X_test_p = p_data[length_p:][:-1]\n",
        "y_test_p = p_data[length_p:][-1]"
      ],
      "metadata": {
        "id": "Gqgop40TPqEE"
      },
      "execution_count": 38,
      "outputs": []
    },
    {
      "cell_type": "code",
      "source": [
        "length_n = int((0.9)*len(n_data))\n",
        "X_train_n = n_data[:length_n][:-1]\n",
        "y_train_n = n_data[:length_n][-1]\n",
        "X_test_n = n_data[length_n:][:-1]\n",
        "y_test_n = n_data[length_n:][-1]"
      ],
      "metadata": {
        "id": "V7MuYA84Q0Uv"
      },
      "execution_count": 41,
      "outputs": []
    },
    {
      "cell_type": "code",
      "source": [
        "X_train = X_train_p + X_train_n\n",
        "y_train = y_train_p + y_train_n\n",
        "X_test = X_test_p + X_test_n\n",
        "y_test = y_test_p + y_test_n"
      ],
      "metadata": {
        "id": "4Xehs34MTODQ"
      },
      "execution_count": 42,
      "outputs": []
    },
    {
      "cell_type": "code",
      "source": [
        "import torch as T\n",
        "device = T.device('cuda')"
      ],
      "metadata": {
        "id": "q9W3YXj-UG9_"
      },
      "execution_count": 43,
      "outputs": []
    },
    {
      "cell_type": "code",
      "source": [
        "# convert data to tensors\n",
        "train_x = T.tensor(X_train, dtype=T.int64).to(device)\n",
        "train_y = T.tensor(y_train, dtype=T.int64).to(device)\n",
        "test_x = T.tensor(X_test, dtype=T.int64).to(device)\n",
        "test_y = T.tensor(y_test, dtype=T.int64).to(device)\n",
        "\n",
        "N = len(train_x)\n",
        "print(\"Data loaded. Number train items = %d \" % N)\n"
      ],
      "metadata": {
        "colab": {
          "base_uri": "https://localhost:8080/"
        },
        "id": "p28ih6dLSL6f",
        "outputId": "3e5a134f-9aaf-4b80-c83f-09dc36f95ef5"
      },
      "execution_count": 44,
      "outputs": [
        {
          "output_type": "stream",
          "name": "stdout",
          "text": [
            "Data loaded. Number train items = 5557 \n"
          ]
        }
      ]
    },
    {
      "cell_type": "markdown",
      "source": [
        "## LSTM model"
      ],
      "metadata": {
        "id": "MxLRq7t2S7by"
      }
    },
    {
      "cell_type": "code",
      "source": [
        "class LSTM_Net(T.nn.Module):\n",
        "  def __init__(self):\n",
        "    # vocab_size = 129892\n",
        "    super(LSTM_Net, self).__init__()\n",
        "    self.embed = T.nn.Embedding(129892, 32)\n",
        "    self.lstm = T.nn.LSTM(32, 75)\n",
        "    self.drop = T.nn.Dropout(0.10)\n",
        "    self.fc1 = T.nn.Linear(75, 10)\n",
        "    self.fc2 = T.nn.Linear(10, 2)  # 0=neg, 1=pos\n",
        "\n",
        "  def forward(self, x):\n",
        "    # x = review/sentence. length = 50 (fixed w/ padding)\n",
        "    z = self.embed(x)\n",
        "    z = z.view(50, 1, 32)  # \"seq batch input\"\n",
        "    lstm_oupt, (h_n, c_n) = self.lstm(z)\n",
        "    z = lstm_oupt[-1]\n",
        "    z = self.drop(z)\n",
        "    z = T.tanh(self.fc1(z))\n",
        "    z = self.fc2(z)  # CrossEntropyLoss will apply softmax\n",
        "    return z"
      ],
      "metadata": {
        "id": "HFYxi2vbR3aJ"
      },
      "execution_count": 45,
      "outputs": []
    },
    {
      "cell_type": "code",
      "source": [
        "def accuracy(model, data_x, data_y):\n",
        "  # data_x and data_y are lists of tensors\n",
        "  model.eval()\n",
        "  num_correct = 0; num_wrong = 0\n",
        "  for i in range(len(data_x)):\n",
        "    X = data_x[i]\n",
        "    Y = data_y[i].reshape(1)\n",
        "    with T.no_grad():\n",
        "      oupt = model(X)\n",
        "\n",
        "    idx = T.argmax(oupt.data)\n",
        "    if idx == Y:  # predicted == target\n",
        "      num_correct += 1\n",
        "    else:\n",
        "      num_wrong += 1\n",
        "  acc = (num_correct * 100.0) / (num_correct + num_wrong)\n",
        "  model = model.train()\n",
        "  return acc"
      ],
      "metadata": {
        "id": "Von293rDSGDO"
      },
      "execution_count": 46,
      "outputs": []
    },
    {
      "cell_type": "code",
      "source": [
        "  # 2. create network\n",
        "net = LSTM_Net().to(device)\n",
        "\n",
        "  # 3. train model\n",
        "loss_func = T.nn.CrossEntropyLoss()  # does log-softmax()\n",
        "optimizer = T.optim.Adam(net.parameters(), lr=1.0e-3)\n",
        "max_epochs = 12\n",
        "log_interval = 2  # display progress\n",
        "\n",
        "print(\"\\nStarting training with bat_size = 1\")\n",
        "for epoch in range(0, max_epochs):\n",
        "  net.train()  # set training mode\n",
        "  indices = np.arange(N)\n",
        "  np.random.shuffle(indices)\n",
        "  tot_err = 0.0\n",
        "\n",
        "  for i in range(N):  # one review at a time\n",
        "    j = indices[i]\n",
        "    X = train_x[j]\n",
        "    Y = train_y[j].reshape(1)\n",
        "\n",
        "    optimizer.zero_grad()\n",
        "    oupt = net(X)\n",
        "    loss_val = loss_func(oupt, Y)\n",
        "    tot_err += loss_val.item()\n",
        "    loss_val.backward()  # compute gradients\n",
        "    optimizer.step()     # update weights\n",
        "\n",
        "  if epoch % log_interval == 0:\n",
        "    print(\"epoch = %4d  |\" % epoch, end=\"\")\n",
        "    print(\"  avg loss = %7.4f  |\" % (tot_err / N), end=\"\")\n",
        "    train_acc = accuracy(net, train_x, train_y)\n",
        "    print(\"  accuracy = %7.2f%%\" % train_acc)\n",
        "    # test_acc = accuracy(net, test_x, test_y)  #\n",
        "    # print(\"  test accuracy = %7.2f%%\" % test_acc)\n",
        "print(\"Training complete\")"
      ],
      "metadata": {
        "id": "9azvpvnrSlMA"
      },
      "execution_count": null,
      "outputs": []
    },
    {
      "cell_type": "code",
      "source": [
        "  # 4. evaluate model\n",
        "test_acc = accuracy(net, test_x, test_y)\n",
        "print(\"\\nAccuracy on test data = %7.2f%%\" % test_acc)"
      ],
      "metadata": {
        "id": "n25pBjmlSzI7"
      },
      "execution_count": null,
      "outputs": []
    }
  ]
}