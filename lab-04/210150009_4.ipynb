{
  "nbformat": 4,
  "nbformat_minor": 0,
  "metadata": {
    "colab": {
      "provenance": []
    },
    "kernelspec": {
      "name": "python3",
      "display_name": "Python 3"
    },
    "language_info": {
      "name": "python"
    }
  },
  "cells": [
    {
      "cell_type": "code",
      "source": [
        "import numpy as np\n",
        "import matplotlib.pyplot as plt"
      ],
      "metadata": {
        "id": "WYUYcTwJuBTc"
      },
      "execution_count": 121,
      "outputs": []
    },
    {
      "cell_type": "markdown",
      "source": [
        "## Generate sinc function"
      ],
      "metadata": {
        "id": "v09rjEWVuOdA"
      }
    },
    {
      "cell_type": "code",
      "source": [
        "def sinc(x):\n",
        "    return np.sinc(x)"
      ],
      "metadata": {
        "id": "US0vP6QxuIDo"
      },
      "execution_count": 122,
      "outputs": []
    },
    {
      "cell_type": "markdown",
      "source": [
        "## Generate dataset"
      ],
      "metadata": {
        "id": "qin_j4dQuSrw"
      }
    },
    {
      "cell_type": "code",
      "source": [
        "x = np.linspace(-10, 10, 1000)\n",
        "y_true = sinc(x)\n",
        "\n",
        "# Creating sequential datasets for training\n",
        "seq_length = 50\n",
        "dataX = []\n",
        "dataY = []\n",
        "for i in range(len(y_true) - seq_length):\n",
        "    seq_in = y_true[i:i + seq_length]\n",
        "    seq_out = y_true[i + seq_length]\n",
        "    dataX.append(seq_in)\n",
        "    dataY.append(seq_out)\n",
        "\n",
        "# Converting to numpy arrays\n",
        "dataX = np.array(dataX)\n",
        "dataY = np.array(dataY)\n",
        "\n",
        "# Splitting the data into training and testing sets\n",
        "split_idx = int(0.8 * len(dataX))\n",
        "X_train, X_test = dataX[:split_idx], dataX[split_idx:]\n",
        "y_train, y_test = dataY[:split_idx], dataY[split_idx:]\n"
      ],
      "metadata": {
        "id": "M1dDE_RRDqwI"
      },
      "execution_count": 123,
      "outputs": []
    },
    {
      "cell_type": "code",
      "source": [
        "def xavier_init(size):\n",
        "  in_dim , out_dim = size\n",
        "  xavier_lim = np.sqrt(6. / (in_dim + out_dim))\n",
        "  return np.random.uniform(-xavier_lim, xavier_lim, size)"
      ],
      "metadata": {
        "id": "0YZF_e2bI1dC"
      },
      "execution_count": 124,
      "outputs": []
    },
    {
      "cell_type": "markdown",
      "source": [
        "## RNN Model"
      ],
      "metadata": {
        "id": "s5MhcOCuudZS"
      }
    },
    {
      "cell_type": "code",
      "source": [
        "# Define RNN parameters\n",
        "input_size = 1\n",
        "hidden_size = 10\n",
        "output_size = 1\n",
        "learning_rate = 0.0001\n",
        "seq_length = 10  # assuming you have a seq_length defined somewhere\n",
        "\n",
        "# Initialize weights and biases\n",
        "Wxh = xavier_init((hidden_size, input_size))\n",
        "Whh = xavier_init((hidden_size, hidden_size))\n",
        "Why = xavier_init((output_size, hidden_size))\n",
        "bh = np.zeros((hidden_size, 1))\n",
        "by = np.zeros((output_size, 1))\n",
        "\n",
        "# Define ReLU activation function\n",
        "def relu(x):\n",
        "    return np.maximum(-0.001*x, x)\n",
        "\n",
        "def drelu(x):\n",
        "    dx = np.ones_like(x)\n",
        "    dx[x < 0] = -0.0001\n",
        "    return dx\n",
        "\n",
        "\n",
        "# Define forward pass function with ReLU activation\n",
        "def forward_pass(inputs):\n",
        "    hidden_states = []\n",
        "    h_prev = np.zeros((hidden_size, 1))\n",
        "    for t in range(seq_length):\n",
        "        x_t = inputs[t].reshape(input_size, 1)\n",
        "        h_t = relu(np.dot(Wxh, x_t) + np.dot(Whh, h_prev) + bh)\n",
        "        hidden_states.append(h_t)\n",
        "        h_prev = h_t\n",
        "    output = np.dot(Why, hidden_states[-1]) + by\n",
        "    return output, hidden_states\n",
        "\n",
        "# Training parameters\n",
        "epochs = 100\n",
        "\n",
        "# Training loop\n",
        "for epoch in range(epochs):\n",
        "    epoch_loss = 0\n",
        "    for i in range(len(X_train)):\n",
        "        inputs = X_train[i]\n",
        "        target = y_train[i]\n",
        "\n",
        "        # Forward pass\n",
        "        output, hidden_states = forward_pass(inputs)\n",
        "\n",
        "        # Compute loss\n",
        "        loss = np.mean((output - target) ** 2)\n",
        "        epoch_loss += loss\n",
        "\n",
        "        # Backpropagation through time\n",
        "        dWxh, dWhh, dWhy = np.zeros_like(Wxh), np.zeros_like(Whh), np.zeros_like(Why)\n",
        "        dbh, dby = np.zeros_like(bh), np.zeros_like(by)\n",
        "        dh_next = np.zeros_like(hidden_states[0])\n",
        "\n",
        "        for t in reversed(range(seq_length)):\n",
        "            dy = output - target\n",
        "            dWhy += np.dot(dy, hidden_states[t].T)\n",
        "            dby += dy\n",
        "            dh = np.dot(Why.T, dy) + dh_next\n",
        "            dh_raw = drelu(hidden_states[t]) * dh  # Derivative of ReLU\n",
        "            dbh += dh_raw\n",
        "            dWxh += np.dot(dh_raw, inputs[t].reshape(1, -1))\n",
        "            dWhh += np.dot(dh_raw, hidden_states[t-1].T)\n",
        "            dh_next = np.dot(Whh.T, dh_raw)\n",
        "\n",
        "        # Update weights and biases with gradient clipping\n",
        "        max_gradient_norm = 1.6\n",
        "\n",
        "        # Clip gradients to avoid exploding gradients\n",
        "        for dparam in [dWxh, dWhh, dWhy, dbh, dby]:\n",
        "            np.clip(dparam, -max_gradient_norm, max_gradient_norm, out=dparam)\n",
        "\n",
        "        # Update weights and biases\n",
        "        Wxh -= learning_rate * dWxh\n",
        "        Whh -= learning_rate * dWhh\n",
        "        Why -= learning_rate * dWhy\n",
        "        bh -= learning_rate * dbh\n",
        "        by -= learning_rate * dby\n",
        "\n",
        "    # Print average loss for the epoch\n",
        "    epoch_loss /= len(X_train)\n",
        "    print(f'Epoch {epoch}, Loss: {epoch_loss}')\n",
        "\n",
        "# Predictions on test set\n",
        "predictions = []\n",
        "for i in range(len(X_test)):\n",
        "    inputs = X_test[i]\n",
        "    output, _ = forward_pass(inputs)\n",
        "    predictions.append(output[0, 0])  # Flatten the output to a scalar value\n",
        "\n",
        "# Plot original and predicted sinc function values\n",
        "plt.plot(y_test, label='True')\n",
        "plt.plot(predictions, label='Predicted')\n",
        "plt.title('Sinc Function Prediction')\n",
        "plt.xlabel('Index')\n",
        "plt.ylabel('Value')\n",
        "plt.legend()\n",
        "plt.show()\n"
      ],
      "metadata": {
        "colab": {
          "base_uri": "https://localhost:8080/",
          "height": 1000
        },
        "id": "65WC5ZC7MpVz",
        "outputId": "4e3f617c-c671-4590-ceca-a676fdb081b0"
      },
      "execution_count": 139,
      "outputs": [
        {
          "output_type": "stream",
          "name": "stdout",
          "text": [
            "Epoch 0, Loss: 0.06424834616534804\n",
            "Epoch 1, Loss: 0.0649722388994439\n",
            "Epoch 2, Loss: 0.0657765139320585\n",
            "Epoch 3, Loss: 0.06647359900963065\n",
            "Epoch 4, Loss: 0.06703473186011276\n",
            "Epoch 5, Loss: 0.06738965543919755\n",
            "Epoch 6, Loss: 0.06761097297778754\n",
            "Epoch 7, Loss: 0.06760072421981055\n",
            "Epoch 8, Loss: 0.06743037113466567\n",
            "Epoch 9, Loss: 0.0671700683531386\n",
            "Epoch 10, Loss: 0.06682834813945894\n",
            "Epoch 11, Loss: 0.06642105927927598\n",
            "Epoch 12, Loss: 0.06597503171242497\n",
            "Epoch 13, Loss: 0.0654414692782632\n",
            "Epoch 14, Loss: 0.06483247396716348\n",
            "Epoch 15, Loss: 0.06417967932861354\n",
            "Epoch 16, Loss: 0.06352922887959578\n",
            "Epoch 17, Loss: 0.06290674009625144\n",
            "Epoch 18, Loss: 0.06233963306211807\n",
            "Epoch 19, Loss: 0.06167535100777825\n",
            "Epoch 20, Loss: 0.060961678348065075\n",
            "Epoch 21, Loss: 0.06019031317739063\n",
            "Epoch 22, Loss: 0.05933563153421124\n",
            "Epoch 23, Loss: 0.05840604661376359\n",
            "Epoch 24, Loss: 0.057432663184922426\n",
            "Epoch 25, Loss: 0.05643847312741047\n",
            "Epoch 26, Loss: 0.055491464703976555\n",
            "Epoch 27, Loss: 0.05460574011973969\n",
            "Epoch 28, Loss: 0.053781491540132405\n",
            "Epoch 29, Loss: 0.053038588461397806\n",
            "Epoch 30, Loss: 0.05242146830542201\n",
            "Epoch 31, Loss: 0.05191801185109622\n",
            "Epoch 32, Loss: 0.05153850419575735\n",
            "Epoch 33, Loss: 0.05126349709253407\n",
            "Epoch 34, Loss: 0.051071041666133285\n",
            "Epoch 35, Loss: 0.050939654002112\n",
            "Epoch 36, Loss: 0.05085817037693624\n",
            "Epoch 37, Loss: 0.050808610852011785\n",
            "Epoch 38, Loss: 0.05077983882786029\n",
            "Epoch 39, Loss: 0.05075715279673855\n",
            "Epoch 40, Loss: 0.050730589532279706\n",
            "Epoch 41, Loss: 0.05069362284854503\n",
            "Epoch 42, Loss: 0.050642184075183054\n",
            "Epoch 43, Loss: 0.05057584291358878\n",
            "Epoch 44, Loss: 0.05049216179821586\n",
            "Epoch 45, Loss: 0.0503937255503895\n",
            "Epoch 46, Loss: 0.050285358748107564\n",
            "Epoch 47, Loss: 0.050167492421024626\n",
            "Epoch 48, Loss: 0.05004256800278976\n",
            "Epoch 49, Loss: 0.049910780395834194\n",
            "Epoch 50, Loss: 0.04977729796035956\n",
            "Epoch 51, Loss: 0.04964003104008268\n",
            "Epoch 52, Loss: 0.049500455618175426\n",
            "Epoch 53, Loss: 0.04936399359477097\n",
            "Epoch 54, Loss: 0.04923074320549387\n",
            "Epoch 55, Loss: 0.049099507898196976\n",
            "Epoch 56, Loss: 0.048969240122484776\n",
            "Epoch 57, Loss: 0.048841702026830004\n",
            "Epoch 58, Loss: 0.048719511519481146\n",
            "Epoch 59, Loss: 0.04860392235223716\n",
            "Epoch 60, Loss: 0.04848672295862522\n",
            "Epoch 61, Loss: 0.04836741594494309\n",
            "Epoch 62, Loss: 0.04825418084290285\n",
            "Epoch 63, Loss: 0.04814806963907533\n",
            "Epoch 64, Loss: 0.04805505223198714\n",
            "Epoch 65, Loss: 0.04797184928508383\n",
            "Epoch 66, Loss: 0.04789601647795364\n",
            "Epoch 67, Loss: 0.047826964854223504\n",
            "Epoch 68, Loss: 0.0477893070664531\n",
            "Epoch 69, Loss: 0.04783359377282993\n",
            "Epoch 70, Loss: 0.04794768588401942\n",
            "Epoch 71, Loss: 0.04806933928646854\n",
            "Epoch 72, Loss: 0.048041906916604774\n",
            "Epoch 73, Loss: 0.04776757207353393\n",
            "Epoch 74, Loss: 0.04735334004226466\n",
            "Epoch 75, Loss: 0.046962164560743175\n",
            "Epoch 76, Loss: 0.04663397732698848\n",
            "Epoch 77, Loss: 0.04634519662920043\n",
            "Epoch 78, Loss: 0.046160743122002364\n",
            "Epoch 79, Loss: 0.046089058672768524\n",
            "Epoch 80, Loss: 0.04609370470279257\n",
            "Epoch 81, Loss: 0.04609557549645214\n",
            "Epoch 82, Loss: 0.046119995196952604\n",
            "Epoch 83, Loss: 0.04617464003913653\n",
            "Epoch 84, Loss: 0.04625960654298408\n",
            "Epoch 85, Loss: 0.04636273310600157\n",
            "Epoch 86, Loss: 0.04646456161533905\n",
            "Epoch 87, Loss: 0.04656910572979968\n",
            "Epoch 88, Loss: 0.046647509148791136\n",
            "Epoch 89, Loss: 0.04673167491503016\n",
            "Epoch 90, Loss: 0.04683698872226455\n",
            "Epoch 91, Loss: 0.04694039909534343\n",
            "Epoch 92, Loss: 0.04703833425465354\n",
            "Epoch 93, Loss: 0.04712522001982411\n",
            "Epoch 94, Loss: 0.0472105925719307\n",
            "Epoch 95, Loss: 0.04728975738147907\n",
            "Epoch 96, Loss: 0.04735452339563306\n",
            "Epoch 97, Loss: 0.04741279363387665\n",
            "Epoch 98, Loss: 0.04745290445045181\n",
            "Epoch 99, Loss: 0.04748174794703963\n"
          ]
        },
        {
          "output_type": "display_data",
          "data": {
            "text/plain": [
              "<Figure size 640x480 with 1 Axes>"
            ],
            "image/png": "[encoded data removed]"
          },
          "metadata": {}
        }
      ]
    },
    {
      "cell_type": "code",
      "source": [],
      "metadata": {
        "id": "2JUQS1h2SYD9"
      },
      "execution_count": null,
      "outputs": []
    }
  ]
}